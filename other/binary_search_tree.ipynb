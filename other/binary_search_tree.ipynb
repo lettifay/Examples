{
 "cells": [
  {
   "cell_type": "code",
   "execution_count": 1,
   "metadata": {
    "collapsed": true
   },
   "outputs": [],
   "source": [
    "class TreeNode(object):\n",
    "    def __init__(self,x):\n",
    "        self.val = x\n",
    "        self.left = None\n",
    "        self.right = None\n",
    "    \n",
    "    # Binary Search Tree    \n",
    "    def insert(self,value):\n",
    "        if value < self.val:\n",
    "            if self.left is None:\n",
    "                self.left = TreeNode(value)\n",
    "            else:\n",
    "                self.left.insert(value)\n",
    "            return True\n",
    "        elif value > self.val:\n",
    "            if self.right is None:\n",
    "                self.right = TreeNode(value)\n",
    "            else:\n",
    "                self.right.insert(value)\n",
    "            return True\n",
    "        else:\n",
    "            print \"Node exists:\",value\n",
    "            return False\n",
    "        \n",
    "    # Perorder Traversal (root -> left -> right)\n",
    "    def preorder(self,node):\n",
    "        if node is None:\n",
    "            return []\n",
    "        else:\n",
    "            leftList = self.preorder(node.left)\n",
    "            rightList = self.preorder(node.right)\n",
    "            result = [node.val] + leftList + rightList\n",
    "            return result\n",
    "    \n",
    "    # Inorder Traversal (left -> root -> right)\n",
    "    # this method will get a order list from small to big\n",
    "    def inorder(self,node):\n",
    "        if node is None:\n",
    "            return []\n",
    "        else:\n",
    "            leftList = self.inorder(node.left)\n",
    "            rightList = self.inorder(node.right)\n",
    "            result = leftList + [node.val] + rightList\n",
    "            return result\n",
    "        \n",
    "    # Postorder Traversal (left -> right -> root)\n",
    "    def postorder(self,node):\n",
    "        if node is None:\n",
    "            return []\n",
    "        else:\n",
    "            leftList = self.postorder(node.left)\n",
    "            rightList = self.postorder(node.right)\n",
    "            result = leftList + rightList + [node.val]\n",
    "            return result\n",
    "        \n",
    "    # Level Traverse (level one -> level two -> ...)\n",
    "    def levelorder(self,node):\n",
    "        if node is None:\n",
    "            return []\n",
    "        else:\n",
    "            nodeList = []\n",
    "            result = []\n",
    "            nodeList.append(node)\n",
    "            while nodeList:\n",
    "                treeNode = nodeList.pop(0)\n",
    "                result.append(treeNode.val)\n",
    "                if treeNode.left is not None:\n",
    "                    nodeList.append(treeNode.left)\n",
    "                if treeNode.right is not None:\n",
    "                    nodeList.append(treeNode.right)\n",
    "            return result\n",
    "        \n",
    "    # search a target value in tree or not\n",
    "    def isContain(self,target):  \n",
    "        if target > self.val:\n",
    "            if self.right == None:\n",
    "                return False\n",
    "            else:\n",
    "                return self.right.isContain(target)\n",
    "        elif target < self.val:\n",
    "            if self.left == None:\n",
    "                return False\n",
    "            else:\n",
    "                return self.left.isContain(target)\n",
    "        else:\n",
    "            return True"
   ]
  },
  {
   "cell_type": "code",
   "execution_count": 2,
   "metadata": {
    "collapsed": true
   },
   "outputs": [],
   "source": [
    "root = TreeNode(5)\n",
    "inputList = [5,3,6,2,4,7]"
   ]
  },
  {
   "cell_type": "code",
   "execution_count": 3,
   "metadata": {},
   "outputs": [
    {
     "name": "stdout",
     "output_type": "stream",
     "text": [
      "Node exists: 5\n",
      "insert 3\n",
      "insert 6\n",
      "insert 2\n",
      "insert 4\n",
      "insert 7\n"
     ]
    }
   ],
   "source": [
    "for i in inputList:\n",
    "    flag = root.insert(i)\n",
    "    if flag:\n",
    "        print \"insert\",i "
   ]
  },
  {
   "cell_type": "code",
   "execution_count": 4,
   "metadata": {},
   "outputs": [
    {
     "name": "stdout",
     "output_type": "stream",
     "text": [
      "preorder: [5, 3, 2, 4, 6, 7]\n",
      "inorder: [2, 3, 4, 5, 6, 7]\n",
      "postorder: [2, 4, 3, 7, 6, 5]\n",
      "levelorder: [5, 3, 6, 2, 4, 7]\n"
     ]
    }
   ],
   "source": [
    "print 'preorder:',root.preorder(root)\n",
    "print 'inorder:',root.inorder(root)\n",
    "print 'postorder:',root.postorder(root)\n",
    "print 'levelorder:',root.levelorder(root)"
   ]
  },
  {
   "cell_type": "code",
   "execution_count": 5,
   "metadata": {},
   "outputs": [
    {
     "name": "stdout",
     "output_type": "stream",
     "text": [
      "i 1 False\n",
      "i 2 True\n",
      "i 3 True\n",
      "i 4 True\n",
      "i 5 True\n",
      "i 6 True\n",
      "i 7 True\n",
      "i 8 False\n",
      "i 9 False\n"
     ]
    }
   ],
   "source": [
    "for i in range(1,10):\n",
    "    print 'i',i,root.isContain(i)"
   ]
  }
 ],
 "metadata": {
  "kernelspec": {
   "display_name": "Python 2",
   "language": "python",
   "name": "python2"
  },
  "language_info": {
   "codemirror_mode": {
    "name": "ipython",
    "version": 2
   },
   "file_extension": ".py",
   "mimetype": "text/x-python",
   "name": "python",
   "nbconvert_exporter": "python",
   "pygments_lexer": "ipython2",
   "version": "2.7.13"
  }
 },
 "nbformat": 4,
 "nbformat_minor": 2
}
