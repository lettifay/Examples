{
 "cells": [
  {
   "cell_type": "code",
   "execution_count": 64,
   "metadata": {},
   "outputs": [],
   "source": [
    "class Node:\n",
    "    def __init__(self,value):\n",
    "        self.value = value\n",
    "        self.next = None\n",
    "\n",
    "def createLinkList(length):\n",
    "    node = Node(0)\n",
    "    head = node\n",
    "    for i in range(length - 1):\n",
    "        node.next = Node(0)\n",
    "        node = node.next\n",
    "    node.next = head\n",
    "    return head\n",
    "\n",
    "def showLinkList(node):\n",
    "    result = []\n",
    "    head = node\n",
    "    while node.next != head :\n",
    "        result.append(node.value)\n",
    "        node = node.next\n",
    "    result.append(node.value)\n",
    "    print result\n",
    "    \n",
    "def deal(node,length):\n",
    "    head = node\n",
    "    count = 1\n",
    "    while count <= length:\n",
    "        for i in range(1,count):\n",
    "            while node.next.value != 0:\n",
    "                node = node.next\n",
    "            node = node.next\n",
    "        \n",
    "        node.value = count\n",
    "        while (node.next.value != 0) and (count != length):\n",
    "            node = node.next\n",
    "        node = node.next\n",
    "        count += 1\n",
    "    return head"
   ]
  },
  {
   "cell_type": "code",
   "execution_count": 65,
   "metadata": {},
   "outputs": [
    {
     "name": "stdout",
     "output_type": "stream",
     "text": [
      "[0, 0, 0, 0, 0, 0, 0, 0, 0, 0, 0, 0, 0]\n",
      "[1, 8, 2, 5, 10, 3, 12, 11, 9, 4, 7, 6, 13]\n"
     ]
    }
   ],
   "source": [
    "# init linkList\n",
    "head = createLinkList(13)\n",
    "showLinkList(head)\n",
    "dealled = deal(head,13)\n",
    "showLinkList(dealled)"
   ]
  }
 ],
 "metadata": {
  "kernelspec": {
   "display_name": "Python 2",
   "language": "python",
   "name": "python2"
  },
  "language_info": {
   "codemirror_mode": {
    "name": "ipython",
    "version": 2
   },
   "file_extension": ".py",
   "mimetype": "text/x-python",
   "name": "python",
   "nbconvert_exporter": "python",
   "pygments_lexer": "ipython2",
   "version": "2.7.13"
  }
 },
 "nbformat": 4,
 "nbformat_minor": 2
}
