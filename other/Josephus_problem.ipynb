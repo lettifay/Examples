{
 "cells": [
  {
   "cell_type": "code",
   "execution_count": 62,
   "metadata": {
    "scrolled": false
   },
   "outputs": [
    {
     "name": "stdout",
     "output_type": "stream",
     "text": [
      "[1, 2, 3, 4, 5, 6, 7, 8, 9, 10, 11, 12, 13, 14, 15, 16, 17, 18, 19, 20, 21, 22, 23, 24, 25, 26, 27, 28, 29, 30, 31, 32, 33, 34, 35, 36, 37, 38, 39, 40, 41]\n",
      "length: 41\n",
      "[16, 31]\n"
     ]
    }
   ],
   "source": [
    "class Node:\n",
    "    def __init__(self,value):\n",
    "        self.value = value\n",
    "        self.next = None\n",
    "        \n",
    "def createLinkList(length):\n",
    "    i=1\n",
    "    head = Node(1)\n",
    "    a = head \n",
    "    while i <= length:\n",
    "        if i == length:\n",
    "            a.next = head\n",
    "        else:\n",
    "            a.next = Node(i+1)\n",
    "            a = a.next\n",
    "        i += 1\n",
    "    return head\n",
    "    \n",
    "def showLinkList(node):\n",
    "    result=[]\n",
    "    head = node\n",
    "    while node.next != head:\n",
    "        result.append(node.value)\n",
    "        node = node.next\n",
    "    result.append(node.value)\n",
    "    print result\n",
    "\n",
    "def getLength(node):\n",
    "    head = node\n",
    "    count = 1\n",
    "    while node.next != head:\n",
    "        node = node.next\n",
    "        count += 1\n",
    "    return count\n",
    "    \n",
    "def killNode(node,step):\n",
    "    head = node\n",
    "    count = 1\n",
    "    while head.next.next != head:\n",
    "        #showLinkList(head)\n",
    "        #print 'node:',node.value\n",
    "        if count == (step - 1 ) :\n",
    "            #print 'kill:',node.next.value\n",
    "            node.next = node.next.next\n",
    "            node = node.next\n",
    "            head = node\n",
    "            count = 1\n",
    "        else:\n",
    "            count += 1\n",
    "            node = node.next\n",
    "    return head\n",
    "\n",
    "# main\n",
    "node = createLinkList(41)\n",
    "showLinkList(node)\n",
    "print 'length:',getLength(node)\n",
    "surviver = killNode(node,3)\n",
    "showLinkList(surviver)"
   ]
  },
  {
   "cell_type": "code",
   "execution_count": null,
   "metadata": {
    "collapsed": true
   },
   "outputs": [],
   "source": []
  }
 ],
 "metadata": {
  "kernelspec": {
   "display_name": "Python 2",
   "language": "python",
   "name": "python2"
  },
  "language_info": {
   "codemirror_mode": {
    "name": "ipython",
    "version": 2
   },
   "file_extension": ".py",
   "mimetype": "text/x-python",
   "name": "python",
   "nbconvert_exporter": "python",
   "pygments_lexer": "ipython2",
   "version": "2.7.13"
  }
 },
 "nbformat": 4,
 "nbformat_minor": 2
}
