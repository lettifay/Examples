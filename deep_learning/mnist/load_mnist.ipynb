{
 "cells": [
  {
   "cell_type": "code",
   "execution_count": 1,
   "metadata": {},
   "outputs": [],
   "source": [
    "import numpy as np\n",
    "import os\n",
    "import gzip\n",
    "import matplotlib.pyplot as plt\n",
    "%matplotlib inline"
   ]
  },
  {
   "cell_type": "code",
   "execution_count": 2,
   "metadata": {},
   "outputs": [],
   "source": [
    "# for input format 'mnist.npz'\n",
    "\n",
    "def load_mnist_npz(mnist_npz_path,kind='train'):\n",
    "    with np.load(mnist_npz_path) as f:\n",
    "        x_train, y_train = f['x_train'], f['y_train']\n",
    "        x_test, y_test = f['x_test'], f['y_test']\n",
    "        \n",
    "        if kind == 'train':\n",
    "            return x_train, y_train\n",
    "        elif kind == 'test':\n",
    "            return x_test, y_test\n",
    "        else:\n",
    "            return False"
   ]
  },
  {
   "cell_type": "code",
   "execution_count": 3,
   "metadata": {},
   "outputs": [],
   "source": [
    "# for input format '*-labels-idx1-ubyte.gz'\n",
    "\n",
    "def load_mnist_gz(mnist_gz_dir,kind='train'):\n",
    "    if kind == 'test':\n",
    "        kind = 't10k'\n",
    "    labels_path = os.path.join(mnist_gz_dir,'%s-labels-idx1-ubyte.gz' % kind)\n",
    "    images_path = os.path.join(mnist_gz_dir,'%s-images-idx3-ubyte.gz' % kind)\n",
    "    \n",
    "    with gzip.open(labels_path, 'rb') as lbpath:\n",
    "        labels = np.frombuffer(lbpath.read(), dtype=np.uint8,offset=8)\n",
    "        \n",
    "    with gzip.open(images_path, 'rb') as imgpath:\n",
    "        images = np.frombuffer(imgpath.read(), dtype=np.uint8,offset=16).reshape(len(labels),28,28)\n",
    "    \n",
    "    return images, labels"
   ]
  },
  {
   "cell_type": "code",
   "execution_count": 4,
   "metadata": {},
   "outputs": [],
   "source": [
    "# for input format '*-labels-idx1-ubyte'\n",
    "\n",
    "def load_mnist_raw(mnist_raw_dir,kind='train'):\n",
    "    if kind == 'test':\n",
    "        kind = 't10k'\n",
    "    labels_path = os.path.join(mnist_raw_dir,'%s-labels-idx1-ubyte' % kind)\n",
    "    images_path = os.path.join(mnist_raw_dir,'%s-images-idx3-ubyte' % kind)\n",
    "    \n",
    "    with open(labels_path, 'rb') as lbpath:\n",
    "        labels = np.frombuffer(lbpath.read(), dtype=np.uint8,offset=8)\n",
    "        \n",
    "    with open(images_path, 'rb') as imgpath:\n",
    "        images = np.frombuffer(imgpath.read(), dtype=np.uint8,offset=16).reshape(len(labels),28,28)\n",
    "    \n",
    "    return images, labels"
   ]
  },
  {
   "cell_type": "code",
   "execution_count": 5,
   "metadata": {},
   "outputs": [
    {
     "name": "stdout",
     "output_type": "stream",
     "text": [
      "('x_train shape:', (60000, 28, 28))\n",
      "('y_train shape:', (60000,))\n",
      "('x_test shape:', (10000, 28, 28))\n",
      "('y_test shape:', (10000,))\n"
     ]
    }
   ],
   "source": [
    "# test\n",
    "#x_train, y_train = load_mnist_npz('./dataset/mnist.npz',kind='train')\n",
    "#x_test, y_test = load_mnist_npz('./dataset/mnist.npz',kind='test')\n",
    "\n",
    "#x_train, y_train = load_mnist_gz('./dataset/mnist_gz',kind='train')\n",
    "#x_test, y_test = load_mnist_gz('./dataset/mnist_gz',kind='test')\n",
    "\n",
    "x_train, y_train = load_mnist_raw('./dataset/mnist_raw',kind='train')\n",
    "x_test, y_test = load_mnist_raw('./dataset/mnist_raw',kind='test')\n",
    "\n",
    "print('x_train shape:',x_train.shape)\n",
    "print('y_train shape:',y_train.shape)\n",
    "print('x_test shape:',x_test.shape)\n",
    "print('y_test shape:',y_test.shape)"
   ]
  },
  {
   "cell_type": "code",
   "execution_count": 6,
   "metadata": {},
   "outputs": [
    {
     "data": {
      "image/png": "[encoded data removed]",
      "text/plain": [
       "<matplotlib.figure.Figure at 0x7f8d7eae9250>"
      ]
     },
     "metadata": {},
     "output_type": "display_data"
    }
   ],
   "source": [
    "im_train = x_train[0]\n",
    "train_label = y_train[0]\n",
    "\n",
    "im_test = x_test[0]\n",
    "test_label = y_test[0]\n",
    "\n",
    "plt.subplot(1,2,1)\n",
    "plt.title('label:'+str(train_label))\n",
    "plt.imshow(im_train,cmap='gray')\n",
    "\n",
    "plt.subplot(1,2,2)\n",
    "plt.title('label:'+str(test_label))\n",
    "plt.imshow(im_test,cmap='gray')\n",
    "\n",
    "plt.show()"
   ]
  },
  {
   "cell_type": "code",
   "execution_count": null,
   "metadata": {},
   "outputs": [],
   "source": []
  }
 ],
 "metadata": {
  "kernelspec": {
   "display_name": "Python 2",
   "language": "python",
   "name": "python2"
  },
  "language_info": {
   "codemirror_mode": {
    "name": "ipython",
    "version": 2
   },
   "file_extension": ".py",
   "mimetype": "text/x-python",
   "name": "python",
   "nbconvert_exporter": "python",
   "pygments_lexer": "ipython2",
   "version": "2.7.14"
  }
 },
 "nbformat": 4,
 "nbformat_minor": 2
}
