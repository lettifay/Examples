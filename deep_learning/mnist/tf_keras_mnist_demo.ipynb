{
 "cells": [
  {
   "cell_type": "code",
   "execution_count": 15,
   "metadata": {},
   "outputs": [],
   "source": [
    "from __future__ import print_function\n",
    "import keras\n",
    "from keras.datasets import mnist\n",
    "from keras.models import Sequential\n",
    "from keras.layers import Dense, Dropout, Flatten\n",
    "from keras.layers import Conv2D, MaxPooling2D"
   ]
  },
  {
   "cell_type": "code",
   "execution_count": 16,
   "metadata": {},
   "outputs": [],
   "source": [
    "# hyper-parameter\n",
    "batch_size = 128\n",
    "num_classes = 10\n",
    "epochs = 10\n",
    "img_rows,img_cols = 28,28"
   ]
  },
  {
   "cell_type": "code",
   "execution_count": 32,
   "metadata": {},
   "outputs": [],
   "source": [
    "# download and load mnist data\n",
    "(x_train, y_train), (x_test, y_test) = mnist.load_data()"
   ]
  },
  {
   "cell_type": "code",
   "execution_count": 33,
   "metadata": {},
   "outputs": [
    {
     "name": "stdout",
     "output_type": "stream",
     "text": [
      "(60000, 28, 28)\n",
      "(60000,)\n",
      "(10000, 28, 28)\n",
      "(10000,)\n"
     ]
    }
   ],
   "source": [
    "# check data shape\n",
    "print(x_train.shape)\n",
    "print(y_train.shape)\n",
    "print(x_test.shape)\n",
    "print(y_test.shape)"
   ]
  },
  {
   "cell_type": "code",
   "execution_count": 34,
   "metadata": {},
   "outputs": [
    {
     "name": "stdout",
     "output_type": "stream",
     "text": [
      "channels_last\n"
     ]
    }
   ],
   "source": [
    "print(keras.backend.image_data_format())\n",
    "# 'channels_last' (tensorflow) means (img_num,height,width,dim)\n",
    "# 'channels_first' (Theano/Caffe) means (img_num,dim,height,width)"
   ]
  },
  {
   "cell_type": "code",
   "execution_count": 35,
   "metadata": {},
   "outputs": [
    {
     "name": "stdout",
     "output_type": "stream",
     "text": [
      "(60000, 28, 28, 1)\n",
      "(60000, 1)\n",
      "(10000, 28, 28, 1)\n",
      "(10000, 1)\n"
     ]
    }
   ],
   "source": [
    "# reshape data\n",
    "x_train = x_train.reshape(x_train.shape[0],img_rows,img_cols,1)\n",
    "y_train = y_train.reshape(y_train.shape[0],1)\n",
    "x_test = x_test.reshape(x_test.shape[0],img_rows,img_cols,1)\n",
    "y_test = y_test.reshape(y_test.shape[0],1)\n",
    "print(x_train.shape)\n",
    "print(y_train.shape)\n",
    "print(x_test.shape)\n",
    "print(y_test.shape)\n",
    "input_shape = (img_rows, img_cols, 1)"
   ]
  },
  {
   "cell_type": "code",
   "execution_count": 36,
   "metadata": {},
   "outputs": [],
   "source": [
    "# convert x to float32\n",
    "x_train = x_train.astype('float32')\n",
    "x_test = x_test.astype('float32')\n",
    "x_train /= 255\n",
    "x_test /= 255\n",
    "\n",
    "# convert class vectors to binary class matrices\n",
    "y_train = keras.utils.np_utils.to_categorical(y_train, num_classes)\n",
    "y_test = keras.utils.np_utils.to_categorical(y_test, num_classes)"
   ]
  },
  {
   "cell_type": "code",
   "execution_count": 38,
   "metadata": {},
   "outputs": [],
   "source": [
    "# design model\n",
    "model = Sequential()\n",
    "model.add(Conv2D(filters=32,\n",
    "                 activation='relu',\n",
    "                 input_shape=input_shape,\n",
    "                 kernel_size=(3,3)))\n",
    "model.add(Conv2D(filters=64,\n",
    "                 activation='relu',\n",
    "                 kernel_size=(3,3)))\n",
    "model.add(MaxPooling2D(pool_size=(2,2)))\n",
    "model.add(Dropout(0.25))\n",
    "model.add(Flatten())\n",
    "model.add(Dense(128,activation='relu'))\n",
    "model.add(Dropout(0.5))\n",
    "model.add(Dense(num_classes,activation='softmax'))"
   ]
  },
  {
   "cell_type": "code",
   "execution_count": 39,
   "metadata": {},
   "outputs": [],
   "source": [
    "# compile model\n",
    "model.compile(loss=keras.losses.categorical_crossentropy,\n",
    "              optimizer=keras.optimizers.Adam(),\n",
    "              metrics=['accuracy'])"
   ]
  },
  {
   "cell_type": "code",
   "execution_count": 41,
   "metadata": {},
   "outputs": [
    {
     "name": "stdout",
     "output_type": "stream",
     "text": [
      "Train on 60000 samples, validate on 10000 samples\n",
      "Epoch 1/10\n",
      "60000/60000 [==============================] - 425s 7ms/step - loss: 0.2480 - acc: 0.9237 - val_loss: 0.0542 - val_acc: 0.9825\n",
      "Epoch 2/10\n",
      "60000/60000 [==============================] - 450s 8ms/step - loss: 0.0870 - acc: 0.9742 - val_loss: 0.0361 - val_acc: 0.9872\n",
      "Epoch 3/10\n",
      "60000/60000 [==============================] - 486s 8ms/step - loss: 0.0638 - acc: 0.9805 - val_loss: 0.0352 - val_acc: 0.9887\n",
      "Epoch 4/10\n",
      "60000/60000 [==============================] - 458s 8ms/step - loss: 0.0531 - acc: 0.9838 - val_loss: 0.0302 - val_acc: 0.9900\n",
      "Epoch 5/10\n",
      "60000/60000 [==============================] - 445s 7ms/step - loss: 0.0429 - acc: 0.9864 - val_loss: 0.0286 - val_acc: 0.9910\n",
      "Epoch 6/10\n",
      "60000/60000 [==============================] - 460s 8ms/step - loss: 0.0387 - acc: 0.9881 - val_loss: 0.0291 - val_acc: 0.9908\n",
      "Epoch 7/10\n",
      "60000/60000 [==============================] - 461s 8ms/step - loss: 0.0351 - acc: 0.9886 - val_loss: 0.0242 - val_acc: 0.9916\n",
      "Epoch 8/10\n",
      "60000/60000 [==============================] - 473s 8ms/step - loss: 0.0316 - acc: 0.9901 - val_loss: 0.0254 - val_acc: 0.9922\n",
      "Epoch 9/10\n",
      "60000/60000 [==============================] - 439s 7ms/step - loss: 0.0260 - acc: 0.9918 - val_loss: 0.0297 - val_acc: 0.9919\n",
      "Epoch 10/10\n",
      "60000/60000 [==============================] - 459s 8ms/step - loss: 0.0276 - acc: 0.9908 - val_loss: 0.0270 - val_acc: 0.9922\n"
     ]
    },
    {
     "data": {
      "text/plain": [
       "<keras.callbacks.History at 0x7f4874d6aa50>"
      ]
     },
     "execution_count": 41,
     "metadata": {},
     "output_type": "execute_result"
    }
   ],
   "source": [
    "# train model\n",
    "model.fit(x_train,y_train,\n",
    "          batch_size=batch_size,\n",
    "          epochs=epochs,\n",
    "          verbose=1, #0 = silent, 1 = progress bar, 2 = one line per epoch\n",
    "          validation_data=(x_test,y_test))"
   ]
  },
  {
   "cell_type": "code",
   "execution_count": 45,
   "metadata": {},
   "outputs": [
    {
     "name": "stdout",
     "output_type": "stream",
     "text": [
      "10000/10000 [==============================] - 20s 2ms/step\n",
      "Test loss: 0.0269552448189\n",
      "Test accuracy: 0.9922\n"
     ]
    }
   ],
   "source": [
    "score = model.evaluate(x_test, y_test, verbose=1)\n",
    "print('Test loss:', score[0])\n",
    "print('Test accuracy:', score[1])"
   ]
  }
 ],
 "metadata": {
  "kernelspec": {
   "display_name": "Python 2",
   "language": "python",
   "name": "python2"
  },
  "language_info": {
   "codemirror_mode": {
    "name": "ipython",
    "version": 2
   },
   "file_extension": ".py",
   "mimetype": "text/x-python",
   "name": "python",
   "nbconvert_exporter": "python",
   "pygments_lexer": "ipython2",
   "version": "2.7.14"
  }
 },
 "nbformat": 4,
 "nbformat_minor": 2
}
