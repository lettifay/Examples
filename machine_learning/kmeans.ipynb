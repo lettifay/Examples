{
 "cells": [
  {
   "cell_type": "code",
   "execution_count": 81,
   "metadata": {
    "collapsed": true
   },
   "outputs": [],
   "source": [
    "from sklearn.cluster import KMeans\n",
    "import numpy as np\n",
    "import os\n",
    "import matplotlib.pyplot as plt\n",
    "%matplotlib inline"
   ]
  },
  {
   "cell_type": "code",
   "execution_count": 82,
   "metadata": {
    "collapsed": true
   },
   "outputs": [],
   "source": [
    "# http://scikit-learn.org/stable/modules/generated/sklearn.cluster.KMeans.html"
   ]
  },
  {
   "cell_type": "code",
   "execution_count": 83,
   "metadata": {},
   "outputs": [
    {
     "name": "stdout",
     "output_type": "stream",
     "text": [
      "[[ 0.  0.  0.]\n",
      " [ 0.  1.  0.]\n",
      " [ 0.  0.  1.]\n",
      " [ 1.  0.  0.]\n",
      " [ 9.  9.  9.]\n",
      " [ 9.  9.  8.]\n",
      " [ 8.  9.  9.]\n",
      " [ 9.  8.  9.]]\n"
     ]
    }
   ],
   "source": [
    "txt = np.loadtxt('./test.txt',delimiter=',')\n",
    "print txt"
   ]
  },
  {
   "cell_type": "code",
   "execution_count": 84,
   "metadata": {},
   "outputs": [
    {
     "name": "stdout",
     "output_type": "stream",
     "text": [
      "cluster_num: 1\n",
      "sum_distance:438.00,\n",
      "label:[0 0 0 0 0 0 0 0],\n",
      "centers:\n",
      "[[ 4.5  4.5  4.5]]\n",
      "\n",
      "cluster_num: 2\n",
      "sum_distance:4.50,\n",
      "label:[1 1 1 1 0 0 0 0],\n",
      "centers:\n",
      "[[ 8.75  8.75  8.75]\n",
      " [ 0.25  0.25  0.25]]\n",
      "\n",
      "cluster_num: 3\n",
      "sum_distance:3.58,\n",
      "label:[1 1 2 1 0 0 0 0],\n",
      "centers:\n",
      "[[ 8.75        8.75        8.75      ]\n",
      " [ 0.33333333  0.33333333  0.        ]\n",
      " [ 0.          0.          1.        ]]\n",
      "\n",
      "cluster_num: 4\n",
      "sum_distance:2.67,\n",
      "label:[2 1 2 2 0 0 0 3],\n",
      "centers:\n",
      "[[ 8.66666667  9.          8.66666667]\n",
      " [ 0.          1.          0.        ]\n",
      " [ 0.33333333  0.          0.33333333]\n",
      " [ 9.          8.          9.        ]]\n",
      "\n",
      "cluster_num: 5\n",
      "sum_distance:1.83,\n",
      "label:[1 1 2 3 0 4 0 0],\n",
      "centers:\n",
      "[[ 8.66666667  8.66666667  9.        ]\n",
      " [ 0.          0.5         0.        ]\n",
      " [ 0.          0.          1.        ]\n",
      " [ 1.          0.          0.        ]\n",
      " [ 9.          9.          8.        ]]\n",
      "\n",
      "cluster_num: 6\n",
      "sum_distance:1.00,\n",
      "label:[1 1 2 3 0 4 5 0],\n",
      "centers:\n",
      "[[ 9.   8.5  9. ]\n",
      " [ 0.   0.5  0. ]\n",
      " [ 0.   0.   1. ]\n",
      " [ 1.   0.   0. ]\n",
      " [ 9.   9.   8. ]\n",
      " [ 8.   9.   9. ]]\n",
      "\n"
     ]
    }
   ],
   "source": [
    "dst_dict={}\n",
    "label_dict={}\n",
    "center_dict={}\n",
    "\n",
    "for i in {1,2,3,4,5,6}:\n",
    "    kmeans=KMeans(n_clusters=i,\n",
    "                  max_iter=100,\n",
    "                  init='k-means++',\n",
    "                  algorithm='elkan',\n",
    "                  precompute_distances=True,\n",
    "                  n_jobs=-1,\n",
    "                  random_state=0).fit(txt)\n",
    "    \n",
    "    print 'cluster_num:', i\n",
    "    \n",
    "    #Sum of squared distances of samples to their closest cluster center.\n",
    "    dst_dict[i] = kmeans.inertia_\n",
    "    \n",
    "    #Labels of each point\n",
    "    label_dict[i] = kmeans.labels_\n",
    "    \n",
    "    #Coordinates of cluster centers array\n",
    "    center_dict[i] = kmeans.cluster_centers_\n",
    "    \n",
    "    print 'sum_distance:%0.2f,\\nlabel:%s,\\ncenters:\\n%s\\n' %(dst_dict[i],label_dict[i],center_dict[i])"
   ]
  },
  {
   "cell_type": "code",
   "execution_count": 85,
   "metadata": {},
   "outputs": [
    {
     "data": {
      "image/png": "[encoded data removed]",
      "text/plain": [
       "<matplotlib.figure.Figure at 0x10bb39510>"
      ]
     },
     "metadata": {},
     "output_type": "display_data"
    }
   ],
   "source": [
    "plt.plot(dst_dict.keys(),dst_dict.values())\n",
    "plt.show()"
   ]
  },
  {
   "cell_type": "code",
   "execution_count": 86,
   "metadata": {},
   "outputs": [],
   "source": [
    "# choose cluster_num = 2\n",
    "kmeans=KMeans(n_clusters=2,\n",
    "                  max_iter=100,\n",
    "                  init='k-means++',\n",
    "                  algorithm='elkan',\n",
    "                  precompute_distances=True,\n",
    "                  n_jobs=-1,\n",
    "                  random_state=0).fit(txt)"
   ]
  },
  {
   "cell_type": "code",
   "execution_count": 87,
   "metadata": {},
   "outputs": [
    {
     "name": "stdout",
     "output_type": "stream",
     "text": [
      "[1,1,1] target cluster: 1\n",
      "[8,8,8] target cluster: 0\n"
     ]
    }
   ],
   "source": [
    "target1_cluster = kmeans.predict(np.array([1,1,1]).reshape(1,-1))[0]\n",
    "target2_cluster = kmeans.predict(np.array([8,8,8]).reshape(1,-1))[0]\n",
    "print '[1,1,1] target cluster:',target1_cluster\n",
    "print '[8,8,8] target cluster:',target2_cluster"
   ]
  },
  {
   "cell_type": "code",
   "execution_count": null,
   "metadata": {
    "collapsed": true
   },
   "outputs": [],
   "source": []
  }
 ],
 "metadata": {
  "kernelspec": {
   "display_name": "Python 2",
   "language": "python",
   "name": "python2"
  },
  "language_info": {
   "codemirror_mode": {
    "name": "ipython",
    "version": 2
   },
   "file_extension": ".py",
   "mimetype": "text/x-python",
   "name": "python",
   "nbconvert_exporter": "python",
   "pygments_lexer": "ipython2",
   "version": "2.7.13"
  }
 },
 "nbformat": 4,
 "nbformat_minor": 2
}
